{
 "cells": [
  {
   "cell_type": "markdown",
   "metadata": {},
   "source": [
    "# Práctica Clase 7"
   ]
  },
  {
   "cell_type": "markdown",
   "metadata": {},
   "source": [
    "1) Diseñar una clase que permita trabajar con un árbol binario y que contenga los métodos:<br>\n",
    "    * insertaVal: para insertar un dato<br>\n",
    "    * buscaVal: que devuelva True o False si existe o no un dato<br>\n",
    "    * verVal: que imprima por pantalla los valores del árbol<br>\n",
    "\n",
    "Nota: Se puede utilizar la recursividad\n"
   ]
  },
  {
   "cell_type": "code",
   "execution_count": 9,
   "metadata": {},
   "outputs": [],
   "source": [
    "import sys\n",
    "sys.path.append('HenryClasesPTdata_10/Clase06')\n",
    "\n"
   ]
  },
  {
   "cell_type": "code",
   "execution_count": 10,
   "metadata": {},
   "outputs": [],
   "source": [
    "class TreeNode:\n",
    "    def __init__(self, data):\n",
    "        self.data = data\n",
    "        self.left = None\n",
    "        self.right = None\n",
    "    def getData(self):\n",
    "        return self.data\n",
    "\n",
    "    def getNext(self):\n",
    "        return self.right\n",
    "\n",
    "    def setData(self, val):\n",
    "        self.data = val\n",
    "\n",
    "    def setNext(self, val):\n",
    "        self.right = val\n",
    "class BinaryTree:\n",
    "    def __init__(self):\n",
    "        self.root = None\n",
    "        self.left = None\n",
    "        self.right = None\n",
    "    def getNext(self):\n",
    "        return self.right\n",
    "\n",
    "    def is_empty(self):\n",
    "        return self.root is None\n",
    "\n",
    "    def insert(self, data):\n",
    "        if self.root is None:\n",
    "            self.root = TreeNode(data)\n",
    "        else:\n",
    "            self._insert_recursively(self.root, data)\n",
    "\n",
    "    def _insert_recursively(self, node, data):\n",
    "        if data < node.data:\n",
    "            if node.left is None:\n",
    "                node.left = TreeNode(data)\n",
    "            else:\n",
    "                self._insert_recursively(node.left, data)\n",
    "        elif data > node.data:\n",
    "            if node.right is None:\n",
    "                node.right = TreeNode(data)\n",
    "            else:\n",
    "                self._insert_recursively(node.right, data)\n",
    "        # Si el dato ya existe en el árbol, no hacemos nada\n",
    "\n",
    "    def search(self, data):\n",
    "        return self._search_recursively(self.root, data)\n",
    "\n",
    "    def _search_recursively(self, node, data):\n",
    "        if node is None:\n",
    "            return False\n",
    "        if node.data == data:\n",
    "            return True\n",
    "        elif data < node.data:\n",
    "            return self._search_recursively(node.left, data)\n",
    "        else:\n",
    "            return self._search_recursively(node.right, data)\n",
    "\n",
    "    def inorder_traversal(self):\n",
    "        return self._inorder_traversal_recursively(self.root)\n",
    "\n",
    "    def _inorder_traversal_recursively(self, node):\n",
    "        elements = []\n",
    "        if node:\n",
    "            elements += self._inorder_traversal_recursively(node.left)\n",
    "            elements.append(node.data)\n",
    "            elements += self._inorder_traversal_recursively(node.right)\n",
    "        return elements"
   ]
  },
  {
   "cell_type": "code",
   "execution_count": 11,
   "metadata": {},
   "outputs": [],
   "source": [
    "root = TreeNode(10)\n",
    "lista = ['panda','leon', 'almoada']\n",
    "hijo = TreeNode(lista)\n",
    "dict = {\n",
    "    'dato1': 30,\n",
    "    'dato2': 20,\n",
    "    'dato3': 50\n",
    "}\n",
    "hoja = TreeNode(dict)"
   ]
  },
  {
   "cell_type": "code",
   "execution_count": 21,
   "metadata": {},
   "outputs": [
    {
     "ename": "TypeError",
     "evalue": "'<' not supported between instances of 'dict' and 'dict'",
     "output_type": "error",
     "traceback": [
      "\u001b[0;31m---------------------------------------------------------------------------\u001b[0m",
      "\u001b[0;31mTypeError\u001b[0m                                 Traceback (most recent call last)",
      "Cell \u001b[0;32mIn[21], line 2\u001b[0m\n\u001b[1;32m      1\u001b[0m hijo\u001b[38;5;241m.\u001b[39msetNext(hijo)\n\u001b[0;32m----> 2\u001b[0m \u001b[43mroot\u001b[49m\u001b[38;5;241;43m.\u001b[39;49m\u001b[43minsert\u001b[49m\u001b[43m(\u001b[49m\u001b[38;5;28;43mdict\u001b[39;49m\u001b[43m)\u001b[49m\n",
      "Cell \u001b[0;32mIn[10], line 31\u001b[0m, in \u001b[0;36mBinaryTree.insert\u001b[0;34m(self, data)\u001b[0m\n\u001b[1;32m     29\u001b[0m     \u001b[38;5;28mself\u001b[39m\u001b[38;5;241m.\u001b[39mroot \u001b[38;5;241m=\u001b[39m TreeNode(data)\n\u001b[1;32m     30\u001b[0m \u001b[38;5;28;01melse\u001b[39;00m:\n\u001b[0;32m---> 31\u001b[0m     \u001b[38;5;28;43mself\u001b[39;49m\u001b[38;5;241;43m.\u001b[39;49m\u001b[43m_insert_recursively\u001b[49m\u001b[43m(\u001b[49m\u001b[38;5;28;43mself\u001b[39;49m\u001b[38;5;241;43m.\u001b[39;49m\u001b[43mroot\u001b[49m\u001b[43m,\u001b[49m\u001b[43m \u001b[49m\u001b[43mdata\u001b[49m\u001b[43m)\u001b[49m\n",
      "Cell \u001b[0;32mIn[10], line 34\u001b[0m, in \u001b[0;36mBinaryTree._insert_recursively\u001b[0;34m(self, node, data)\u001b[0m\n\u001b[1;32m     33\u001b[0m \u001b[38;5;28;01mdef\u001b[39;00m \u001b[38;5;21m_insert_recursively\u001b[39m(\u001b[38;5;28mself\u001b[39m, node, data):\n\u001b[0;32m---> 34\u001b[0m     \u001b[38;5;28;01mif\u001b[39;00m \u001b[43mdata\u001b[49m\u001b[43m \u001b[49m\u001b[38;5;241;43m<\u001b[39;49m\u001b[43m \u001b[49m\u001b[43mnode\u001b[49m\u001b[38;5;241;43m.\u001b[39;49m\u001b[43mdata\u001b[49m:\n\u001b[1;32m     35\u001b[0m         \u001b[38;5;28;01mif\u001b[39;00m node\u001b[38;5;241m.\u001b[39mleft \u001b[38;5;129;01mis\u001b[39;00m \u001b[38;5;28;01mNone\u001b[39;00m:\n\u001b[1;32m     36\u001b[0m             node\u001b[38;5;241m.\u001b[39mleft \u001b[38;5;241m=\u001b[39m TreeNode(data)\n",
      "\u001b[0;31mTypeError\u001b[0m: '<' not supported between instances of 'dict' and 'dict'"
     ]
    }
   ],
   "source": [
    "hijo.setNext(hijo)\n",
    "root.insert(dict)\n"
   ]
  },
  {
   "cell_type": "code",
   "execution_count": 20,
   "metadata": {},
   "outputs": [
    {
     "ename": "AttributeError",
     "evalue": "'BinaryTree' object has no attribute 'right'",
     "output_type": "error",
     "traceback": [
      "\u001b[0;31m---------------------------------------------------------------------------\u001b[0m",
      "\u001b[0;31mAttributeError\u001b[0m                            Traceback (most recent call last)",
      "Cell \u001b[0;32mIn[20], line 1\u001b[0m\n\u001b[0;32m----> 1\u001b[0m \u001b[38;5;28mprint\u001b[39m(\u001b[43mroot\u001b[49m\u001b[38;5;241;43m.\u001b[39;49m\u001b[43mgetNext\u001b[49m\u001b[43m(\u001b[49m\u001b[43m)\u001b[49m)\n",
      "Cell \u001b[0;32mIn[10], line 22\u001b[0m, in \u001b[0;36mBinaryTree.getNext\u001b[0;34m(self)\u001b[0m\n\u001b[1;32m     21\u001b[0m \u001b[38;5;28;01mdef\u001b[39;00m \u001b[38;5;21mgetNext\u001b[39m(\u001b[38;5;28mself\u001b[39m):\n\u001b[0;32m---> 22\u001b[0m     \u001b[38;5;28;01mreturn\u001b[39;00m \u001b[38;5;28;43mself\u001b[39;49m\u001b[38;5;241;43m.\u001b[39;49m\u001b[43mright\u001b[49m\n",
      "\u001b[0;31mAttributeError\u001b[0m: 'BinaryTree' object has no attribute 'right'"
     ]
    }
   ],
   "source": [
    "print(root.getNext())"
   ]
  },
  {
   "cell_type": "code",
   "execution_count": 16,
   "metadata": {},
   "outputs": [
    {
     "name": "stdout",
     "output_type": "stream",
     "text": [
      "8 No Encontrado!\n"
     ]
    }
   ],
   "source": [
    "root = BinaryTree()\n",
    "valorBuscado = 8\n",
    "if (root.search(valorBuscado)):\n",
    "    print(valorBuscado, 'Encontrado!')\n",
    "else:\n",
    "    print(valorBuscado, 'No Encontrado!')"
   ]
  },
  {
   "cell_type": "code",
   "execution_count": null,
   "metadata": {},
   "outputs": [],
   "source": [
    "root.getData()"
   ]
  },
  {
   "cell_type": "code",
   "execution_count": null,
   "metadata": {},
   "outputs": [],
   "source": [
    "root.insertaVal(9)"
   ]
  },
  {
   "cell_type": "code",
   "execution_count": null,
   "metadata": {},
   "outputs": [],
   "source": [
    "root.verVal()"
   ]
  },
  {
   "cell_type": "code",
   "execution_count": null,
   "metadata": {},
   "outputs": [],
   "source": [
    "class nodeDoublyLinked:\n",
    "    '''\n",
    "    Descripcion: Clase nodo doble enlazada \n",
    "    que permite buscar antes y despues los datos.\n",
    "    '''\n",
    "    \n",
    "    def __init__(self, dato):\n",
    "        self.cargo = dato\n",
    "        self.next = None\n",
    "        self.previous = None\n",
    "    #Metodo get\n",
    "    def getData(self): \n",
    "        return self.data\n",
    "    #Next item\n",
    "    def getNext(self): \n",
    "        return self.next\n",
    "    #Metodo set\n",
    "    def setData(self,new): \n",
    "        self.data = new\n",
    "    # Nuevo nodo\n",
    "    def setNext(self, new_node): \n",
    "        self.next = nodeDoublyLinked (new_node)\n",
    "    # Inserta un nuevo dato despues de {Un dato dado}\n",
    "  \n",
    "    # Busca un dato\n",
    "    def search(self, value):\n",
    "        current_node = self\n",
    "        while current_node:\n",
    "            if current_node.data == value:\n",
    "                return current_node\n",
    "            current_node = current_node.next\n",
    "        return None  # Value not found\n",
    "    #Dato anterior \n",
    "    def hasPrevious(self):\n",
    "        return self.previous is not None\n",
    "    #Optine el dato anterior\n",
    "    def getPrevious(self):\n",
    "        return self.previous\n",
    "    #Configura la direcion previa de un dato\n",
    "    def setPrevious(self, new_node):\n",
    "        self.previous = new_node\n",
    "    #Inserta un nuevo dato despues de otro\n",
    "    def insert_after(self, new_node):\n",
    "        new_node.next = self.next\n",
    "        new_node.previous = self\n",
    "        self.next = new_node\n",
    "        if new_node.next:\n",
    "            new_node.next.previous = new_node\n",
    "    #Inser a prevouos value\n",
    "    def remove(self):\n",
    "        if self.next:  # Not the tail node\n",
    "            self.next.previous = self.previous  # Update previous pointer of the next node\n",
    "            self.previous.next = self.next  # Update next pointer of the previous node\n",
    "        else:  # Tail node\n",
    "            self.previous.next = None  # Set previous node's next to None\n",
    "            \n",
    "        '''\n",
    "        Desafíos al eliminar el nodo final:\n",
    "\n",
    "Localización del predecesor:\n",
    "\n",
    "Para eliminar el nodo final, \n",
    "primero necesitarías encontrar su predecesor.\n",
    "En una lista enlazada simple, \n",
    "esto implica iterar a través de la lista desde la\n",
    "cabeza hasta que encuentres el segundo nodo desde el final. \n",
    "Esto puede ser consumidor de tiempo, especialmente para listas grandes.\n",
    "Actualización del puntero:\n",
    "\n",
    "Una vez que encuentres el predecesor, \n",
    "necesitarías establecer su puntero siguiente \n",
    "como None para desvincular el nodo final.\n",
    "Sin embargo, las listas enlazadas simples \n",
    "carecen de punteros directos al final desde \n",
    "cualquier otro nodo, lo que hace imposible \n",
    "actualizar el puntero del predecesor sin primero \n",
    "recorrer la lista.\n",
    "        '''"
   ]
  }
 ],
 "metadata": {
  "kernelspec": {
   "display_name": "Python 3.11.3 64-bit",
   "language": "python",
   "name": "python3"
  },
  "language_info": {
   "codemirror_mode": {
    "name": "ipython",
    "version": 3
   },
   "file_extension": ".py",
   "mimetype": "text/x-python",
   "name": "python",
   "nbconvert_exporter": "python",
   "pygments_lexer": "ipython3",
   "version": "3.12.1"
  },
  "vscode": {
   "interpreter": {
    "hash": "52634da84371cba311ea128a5ea7cdc41ff074b781779e754b270ff9f8153cee"
   }
  }
 },
 "nbformat": 4,
 "nbformat_minor": 4
}
