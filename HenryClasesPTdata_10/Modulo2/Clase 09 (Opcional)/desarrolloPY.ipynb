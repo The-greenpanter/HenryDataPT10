{
 "cells": [
  {
   "cell_type": "code",
   "execution_count": 8,
   "metadata": {},
   "outputs": [],
   "source": [
    "import pandas as pd\n",
    "import numpy as np\n",
    "import sqlalchemy\n",
    "import mysql.connector\n"
   ]
  },
  {
   "cell_type": "code",
   "execution_count": 5,
   "metadata": {},
   "outputs": [
    {
     "name": "stdout",
     "output_type": "stream",
     "text": [
      "Conexión exitosa a la base de datos\n"
     ]
    }
   ],
   "source": [
    "# Establecer la conexión con la base de datos\n",
    "conexion = mysql.connector.connect(\n",
    "    host=\"localhost\",\n",
    "    port=3306,  # Especifica el puerto aquí\n",
    "    user=\"root\",\n",
    "    password=\"\",\n",
    "    database=\"Henry\"\n",
    ")\n",
    "\n",
    "# Verificar si la conexión fue exitosa\n",
    "if conexion.is_connected():\n",
    "    print(\"Conexión exitosa a la base de datos\")\n",
    "\n",
    "# Realizar operaciones en la base de datos...\n"
   ]
  },
  {
   "cell_type": "code",
   "execution_count": null,
   "metadata": {},
   "outputs": [],
   "source": [
    "# Cerrar la conexión\n",
    "conexion.close()"
   ]
  },
  {
   "cell_type": "code",
   "execution_count": 10,
   "metadata": {},
   "outputs": [
    {
     "name": "stdout",
     "output_type": "stream",
     "text": [
      "Tabla: alumno\n",
      "    Columna: idAlumno Tipo de dato: INTEGER\n",
      "    Columna: cedulaIdentidad Tipo de dato: VARCHAR(50)\n",
      "    Columna: nombre Tipo de dato: VARCHAR(40)\n",
      "    Columna: apellido Tipo de dato: VARCHAR(40)\n",
      "    Columna: fechaNacimiento Tipo de dato: DATE\n",
      "    Columna: fechaIngreso Tipo de dato: DATE\n",
      "    Columna: idCohorte Tipo de dato: INTEGER\n",
      "Tabla: carrera\n",
      "    Columna: idCarrera Tipo de dato: INTEGER\n",
      "    Columna: nombre Tipo de dato: VARCHAR(50)\n",
      "Tabla: cohorte\n",
      "    Columna: idCohorte Tipo de dato: INTEGER\n",
      "    Columna: codigo Tipo de dato: VARCHAR(50)\n",
      "    Columna: idCarrera Tipo de dato: INTEGER\n",
      "    Columna: idInstructor Tipo de dato: INTEGER\n",
      "    Columna: fechaInicio Tipo de dato: DATE\n",
      "    Columna: fechaFinalizacion Tipo de dato: DATE\n",
      "Tabla: instructor\n",
      "    Columna: idInstructor Tipo de dato: INTEGER\n",
      "    Columna: cedulaIdentidad Tipo de dato: INTEGER\n",
      "    Columna: nombre Tipo de dato: VARCHAR(40)\n",
      "    Columna: apellido Tipo de dato: VARCHAR(40)\n",
      "    Columna: fechaNacimiento Tipo de dato: DATE\n",
      "    Columna: fechaIncorporacion Tipo de dato: DATE\n"
     ]
    }
   ],
   "source": [
    "from sqlalchemy import create_engine, Column, Integer, String\n",
    "from sqlalchemy.ext.declarative import declarative_base\n",
    "from sqlalchemy.orm import sessionmaker\n",
    "from sqlalchemy import create_engine, inspect\n",
    "from sqlalchemy.ext.automap import automap_base\n",
    "from sqlalchemy.orm import sessionmaker\n",
    "\n",
    "# Crear un motor de base de datos con SQLAlchemy\n",
    "engine = create_engine('mysql+mysqlconnector://root:@localhost/Henry')\n",
    "\n",
    "# Crear una sesión para interactuar con la base de datos\n",
    "Session = sessionmaker(bind=engine)\n",
    "session = Session()\n",
    "\n",
    "# Crear un objeto 'inspector' para inspeccionar la estructura de la base de datos\n",
    "inspector = inspect(engine)\n",
    "\n",
    "# Obtener las tablas de la base de datos\n",
    "tablas = inspector.get_table_names()\n",
    "\n",
    "# Crear una instancia de la clase Base\n",
    "Base = declarative_base()\n",
    "\n",
    "# Iterar sobre las tablas y obtener información sobre las columnas\n",
    "for tabla in tablas:\n",
    "    print(\"Tabla:\", tabla)\n",
    "    columnas = inspector.get_columns(tabla)\n",
    "    for columna in columnas:\n",
    "        print(\"    Columna:\", columna['name'], \"Tipo de dato:\", columna['type'])\n"
   ]
  }
 ],
 "metadata": {
  "kernelspec": {
   "display_name": "Henry_venv",
   "language": "python",
   "name": "python3"
  },
  "language_info": {
   "codemirror_mode": {
    "name": "ipython",
    "version": 3
   },
   "file_extension": ".py",
   "mimetype": "text/x-python",
   "name": "python",
   "nbconvert_exporter": "python",
   "pygments_lexer": "ipython3",
   "version": "3.12.1"
  }
 },
 "nbformat": 4,
 "nbformat_minor": 2
}
