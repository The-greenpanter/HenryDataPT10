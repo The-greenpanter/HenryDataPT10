{
 "cells": [
  {
   "cell_type": "code",
   "execution_count": 9,
   "metadata": {},
   "outputs": [],
   "source": [
    "import openpyxl\n",
    "import csv\n",
    "\n",
    "def xlsx_to_csv(input_file, output_file):\n",
    "    wb = openpyxl.load_workbook(input_file)                     # Cargar el archivo xlsx\n",
    "    sheet = wb.active                                           # Obtener la hoja activa del libro de trabajo\n",
    "\n",
    "    # Abrir archivo CSV para escritura\n",
    "    with open(output_file, 'w', newline='', encoding='utf-8') as csvfile:\n",
    "        writer = csv.writer(csvfile)\n",
    "\n",
    "        # Iterar sobre las filas y escribir en el archivo CSV\n",
    "        for row in sheet.iter_rows(values_only=True):\n",
    "            writer.writerow(row)\n",
    "\n",
    "    print(f'El archivo {input_file} se ha convertido a CSV correctamente.')\n"
   ]
  },
  {
   "cell_type": "code",
   "execution_count": 10,
   "metadata": {},
   "outputs": [
    {
     "ename": "TypeError",
     "evalue": "xlsx_to_csv() missing 2 required positional arguments: 'input_file' and 'output_file'",
     "output_type": "error",
     "traceback": [
      "\u001b[1;31m---------------------------------------------------------------------------\u001b[0m",
      "\u001b[1;31mTypeError\u001b[0m                                 Traceback (most recent call last)",
      "Cell \u001b[1;32mIn[10], line 1\u001b[0m\n\u001b[1;32m----> 1\u001b[0m \u001b[43mxlsx_to_csv\u001b[49m\u001b[43m(\u001b[49m\u001b[43m)\u001b[49m\n\u001b[0;32m      2\u001b[0m input_file \u001b[38;5;241m=\u001b[39m \u001b[38;5;124m'\u001b[39m\u001b[38;5;124mC:\u001b[39m\u001b[38;5;124m\\\u001b[39m\u001b[38;5;124mDYNAMO\u001b[39m\u001b[38;5;124m\\\u001b[39m\u001b[38;5;124mDATA SCIENCE\u001b[39m\u001b[38;5;124m\\\u001b[39m\u001b[38;5;124mBootcamp\u001b[39m\u001b[38;5;124m\\\u001b[39m\u001b[38;5;124mM3\u001b[39m\u001b[38;5;124m\\\u001b[39m\u001b[38;5;124mSession_4\u001b[39m\u001b[38;5;124m\\\u001b[39m\u001b[38;5;124mExcelToCSV\u001b[39m\u001b[38;5;124m\\\u001b[39m\u001b[38;5;124mCanalDeVenta.xlsx\u001b[39m\u001b[38;5;124m'\u001b[39m\n\u001b[0;32m      3\u001b[0m output_file \u001b[38;5;241m=\u001b[39m \u001b[38;5;124m'\u001b[39m\u001b[38;5;124mC:\u001b[39m\u001b[38;5;124m\\\u001b[39m\u001b[38;5;124mDYNAMO\u001b[39m\u001b[38;5;124m\\\u001b[39m\u001b[38;5;124mDATA SCIENCE\u001b[39m\u001b[38;5;124m\\\u001b[39m\u001b[38;5;124mBootcamp\u001b[39m\u001b[38;5;124m\\\u001b[39m\u001b[38;5;124mM3\u001b[39m\u001b[38;5;124m\\\u001b[39m\u001b[38;5;124mSession_4\u001b[39m\u001b[38;5;124m\\\u001b[39m\u001b[38;5;124mExcelToCSV\u001b[39m\u001b[38;5;124m\\\u001b[39m\u001b[38;5;124mCanalDeVenta.csv\u001b[39m\u001b[38;5;124m'\u001b[39m\n",
      "\u001b[1;31mTypeError\u001b[0m: xlsx_to_csv() missing 2 required positional arguments: 'input_file' and 'output_file'"
     ]
    }
   ],
   "source": [
    "xlsx_to_csv(input_file=, output_file=)\n",
    "input_file = 'C:\\DYNAMO\\DATA SCIENCE\\Bootcamp\\M3\\Session_4\\ExcelToCSV\\CanalDeVenta.xlsx'\n",
    "output_file = 'C:\\DYNAMO\\DATA SCIENCE\\Bootcamp\\M3\\Session_4\\ExcelToCSV\\CanalDeVenta.csv'"
   ]
  }
 ],
 "metadata": {
  "kernelspec": {
   "display_name": "bootcampHenry",
   "language": "python",
   "name": "python3"
  },
  "language_info": {
   "codemirror_mode": {
    "name": "ipython",
    "version": 3
   },
   "file_extension": ".py",
   "mimetype": "text/x-python",
   "name": "python",
   "nbconvert_exporter": "python",
   "pygments_lexer": "ipython3",
   "version": "3.10.11"
  }
 },
 "nbformat": 4,
 "nbformat_minor": 2
}
