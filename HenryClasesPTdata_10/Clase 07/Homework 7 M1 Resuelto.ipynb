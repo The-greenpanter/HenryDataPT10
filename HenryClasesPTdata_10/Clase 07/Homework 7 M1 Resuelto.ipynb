{
 "cells": [
  {
   "cell_type": "markdown",
   "metadata": {},
   "source": [
    "# Práctica Clase 7"
   ]
  },
  {
   "cell_type": "markdown",
   "metadata": {},
   "source": [
    "1) Diseñar una clase que permita trabajar con un árbol binario y que contenga los métodos:<br>\n",
    "    * insertaVal: para insertar un dato<br>\n",
    "    * buscaVal: que devuelva True o False si existe o no un dato<br>\n",
    "    * verVal: que imprima por pantalla los valores del árbol<br>\n",
    "\n",
    "Nota: Se puede utilizar la recursividad\n"
   ]
  },
  {
   "cell_type": "code",
   "execution_count": null,
   "metadata": {},
   "outputs": [],
   "source": [
    "class nodeDoublyLinked:\n",
    "    '''\n",
    "    Descripcion: Clase nodo doble enlazada \n",
    "    que permite buscar antes y despues los datos.\n",
    "    '''\n",
    "    \n",
    "    def __init__(self, cargo):\n",
    "        self.cargo = cargo\n",
    "        self.next = None\n",
    "        self.previous = None\n",
    "    #Metodo get\n",
    "    def getData(self): \n",
    "        return self.data\n",
    "    #Next item\n",
    "    def getNext(self): \n",
    "        return self.next\n",
    "    #Metodo set\n",
    "    def setData(self,new): \n",
    "        self.data = new\n",
    "    # Nuevo nodo\n",
    "    def setNext(self, new_node): \n",
    "        self.next = Node (new_node)\n",
    "    # Inserta un nuevo dato despues de {Un dato dado}\n",
    "    def insertAfter(self, new_node):\n",
    "        new_node.next = self.next\n",
    "        self.next = new_node\n",
    "    # Busca un dato\n",
    "    def search(self, value):\n",
    "        current_node = self\n",
    "        while current_node:\n",
    "            if current_node.data == value:\n",
    "                return current_node\n",
    "            current_node = current_node.next\n",
    "        return None  # Value not found\n",
    "    #Dato anterior \n",
    "    def hasPrevious(self):\n",
    "        return self.previous is not None\n",
    "    #Optine el dato anterior\n",
    "    def getPrevious(self):\n",
    "        return self.previous\n",
    "    #Configura la direcion previa de un dato\n",
    "    def setPrevious(self, new_node):\n",
    "        self.previous = new_node\n",
    "    #Inser a next data with direction\n",
    "    def insertAfter(self, new_node):\n",
    "        new_node.next = self.next\n",
    "        self.next = new_node\n",
    "    # Inserta anterior"
   ]
  },
  {
   "cell_type": "code",
   "execution_count": 2,
   "metadata": {},
   "outputs": [],
   "source": [
    "root = nodeDoublyLinked(10)"
   ]
  },
  {
   "cell_type": "code",
   "execution_count": 3,
   "metadata": {},
   "outputs": [],
   "source": [
    "root.insertaVal(3)\n",
    "root.insertaVal(13)\n",
    "root.insertaVal(1)\n",
    "root.insertaVal(8)\n",
    "root.insertaVal(20)"
   ]
  },
  {
   "cell_type": "code",
   "execution_count": 4,
   "metadata": {},
   "outputs": [
    {
     "name": "stdout",
     "output_type": "stream",
     "text": [
      "8 Encontrado!\n"
     ]
    }
   ],
   "source": [
    "valorBuscado = 8\n",
    "if (root.buscaVal(valorBuscado)):\n",
    "    print(valorBuscado, 'Encontrado!')\n",
    "else:\n",
    "    print(valorBuscado, 'No Encontrado!')"
   ]
  },
  {
   "cell_type": "code",
   "execution_count": 5,
   "metadata": {},
   "outputs": [
    {
     "name": "stdout",
     "output_type": "stream",
     "text": [
      "1\n",
      "3\n",
      "8\n",
      "10\n",
      "13\n",
      "20\n"
     ]
    }
   ],
   "source": [
    "root.verVal()"
   ]
  },
  {
   "cell_type": "code",
   "execution_count": 6,
   "metadata": {},
   "outputs": [],
   "source": [
    "root.insertaVal(9)"
   ]
  },
  {
   "cell_type": "code",
   "execution_count": 7,
   "metadata": {},
   "outputs": [
    {
     "name": "stdout",
     "output_type": "stream",
     "text": [
      "1\n",
      "3\n",
      "8\n",
      "9\n",
      "10\n",
      "13\n",
      "20\n"
     ]
    }
   ],
   "source": [
    "root.verVal()"
   ]
  },
  {
   "cell_type": "code",
   "execution_count": null,
   "metadata": {},
   "outputs": [],
   "source": []
  }
 ],
 "metadata": {
  "kernelspec": {
   "display_name": "Python 3.11.3 64-bit",
   "language": "python",
   "name": "python3"
  },
  "language_info": {
   "codemirror_mode": {
    "name": "ipython",
    "version": 3
   },
   "file_extension": ".py",
   "mimetype": "text/x-python",
   "name": "python",
   "nbconvert_exporter": "python",
   "pygments_lexer": "ipython3",
   "version": "3.11.3"
  },
  "vscode": {
   "interpreter": {
    "hash": "52634da84371cba311ea128a5ea7cdc41ff074b781779e754b270ff9f8153cee"
   }
  }
 },
 "nbformat": 4,
 "nbformat_minor": 4
}
