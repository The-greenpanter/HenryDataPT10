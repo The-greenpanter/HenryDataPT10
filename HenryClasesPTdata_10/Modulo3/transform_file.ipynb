{
 "cells": [
  {
   "cell_type": "code",
   "execution_count": 11,
   "metadata": {},
   "outputs": [
    {
     "name": "stdout",
     "output_type": "stream",
     "text": [
      "Archivo convertido: C:\\Users\\mauri\\OneDrive\\Escritorio\\Henry_prueba\\modulo3\\sesion4\\tablas\\CanalDeVenta.xlsx -> C:\\Users\\mauri\\OneDrive\\Escritorio\\Henry_prueba\\modulo3\\sesion4\\tablas\\CanalDeVenta.csv\n",
      "Archivo original eliminado: C:\\Users\\mauri\\OneDrive\\Escritorio\\Henry_prueba\\modulo3\\sesion4\\tablas\\CanalDeVenta.xlsx\n",
      "Archivo convertido: C:\\Users\\mauri\\OneDrive\\Escritorio\\Henry_prueba\\modulo3\\sesion4\\tablas\\Clientes.xlsx -> C:\\Users\\mauri\\OneDrive\\Escritorio\\Henry_prueba\\modulo3\\sesion4\\tablas\\Clientes.csv\n",
      "Archivo original eliminado: C:\\Users\\mauri\\OneDrive\\Escritorio\\Henry_prueba\\modulo3\\sesion4\\tablas\\Clientes.xlsx\n",
      "Archivo convertido: C:\\Users\\mauri\\OneDrive\\Escritorio\\Henry_prueba\\modulo3\\sesion4\\tablas\\Compra.xlsx -> C:\\Users\\mauri\\OneDrive\\Escritorio\\Henry_prueba\\modulo3\\sesion4\\tablas\\Compra.csv\n",
      "Archivo original eliminado: C:\\Users\\mauri\\OneDrive\\Escritorio\\Henry_prueba\\modulo3\\sesion4\\tablas\\Compra.xlsx\n",
      "Archivo convertido: C:\\Users\\mauri\\OneDrive\\Escritorio\\Henry_prueba\\modulo3\\sesion4\\tablas\\Empleados.xls -> C:\\Users\\mauri\\OneDrive\\Escritorio\\Henry_prueba\\modulo3\\sesion4\\tablas\\Empleados.csv\n",
      "Archivo original eliminado: C:\\Users\\mauri\\OneDrive\\Escritorio\\Henry_prueba\\modulo3\\sesion4\\tablas\\Empleados.xls\n",
      "Archivo convertido: C:\\Users\\mauri\\OneDrive\\Escritorio\\Henry_prueba\\modulo3\\sesion4\\tablas\\Gasto.xlsx -> C:\\Users\\mauri\\OneDrive\\Escritorio\\Henry_prueba\\modulo3\\sesion4\\tablas\\Gasto.csv\n",
      "Archivo original eliminado: C:\\Users\\mauri\\OneDrive\\Escritorio\\Henry_prueba\\modulo3\\sesion4\\tablas\\Gasto.xlsx\n",
      "Archivo convertido: C:\\Users\\mauri\\OneDrive\\Escritorio\\Henry_prueba\\modulo3\\sesion4\\tablas\\PRODUCTOS.xlsx -> C:\\Users\\mauri\\OneDrive\\Escritorio\\Henry_prueba\\modulo3\\sesion4\\tablas\\PRODUCTOS.csv\n",
      "Archivo original eliminado: C:\\Users\\mauri\\OneDrive\\Escritorio\\Henry_prueba\\modulo3\\sesion4\\tablas\\PRODUCTOS.xlsx\n",
      "Archivo convertido: C:\\Users\\mauri\\OneDrive\\Escritorio\\Henry_prueba\\modulo3\\sesion4\\tablas\\Proveedores.xlsx -> C:\\Users\\mauri\\OneDrive\\Escritorio\\Henry_prueba\\modulo3\\sesion4\\tablas\\Proveedores.csv\n",
      "Archivo original eliminado: C:\\Users\\mauri\\OneDrive\\Escritorio\\Henry_prueba\\modulo3\\sesion4\\tablas\\Proveedores.xlsx\n",
      "Archivo convertido: C:\\Users\\mauri\\OneDrive\\Escritorio\\Henry_prueba\\modulo3\\sesion4\\tablas\\TiposDeGasto.xlsx -> C:\\Users\\mauri\\OneDrive\\Escritorio\\Henry_prueba\\modulo3\\sesion4\\tablas\\TiposDeGasto.csv\n",
      "Archivo original eliminado: C:\\Users\\mauri\\OneDrive\\Escritorio\\Henry_prueba\\modulo3\\sesion4\\tablas\\TiposDeGasto.xlsx\n",
      "Archivo convertido: C:\\Users\\mauri\\OneDrive\\Escritorio\\Henry_prueba\\modulo3\\sesion4\\tablas\\Venta.xlsx -> C:\\Users\\mauri\\OneDrive\\Escritorio\\Henry_prueba\\modulo3\\sesion4\\tablas\\Venta.csv\n",
      "Archivo original eliminado: C:\\Users\\mauri\\OneDrive\\Escritorio\\Henry_prueba\\modulo3\\sesion4\\tablas\\Venta.xlsx\n",
      "fin\n"
     ]
    }
   ],
   "source": [
    "import os\n",
    "import pandas as pd\n",
    "\n",
    "# Especifica el directorio que contiene los archivos .xls\n",
    "directory = r\"C:\\Users\\mauri\\OneDrive\\Escritorio\\Henry_prueba\\modulo3\\sesion4\\tablas\"\n",
    "\n",
    "# Itera sobre todos los archivos en el directorio\n",
    "for filename in os.listdir(directory):\n",
    "    # Verifica si el archivo tiene extensión .xlsx\n",
    "    if filename.endswith('.xlsx') or filename.endswith('.xls'):\n",
    "        # Construye la ruta completa al archivo\n",
    "        file_path = os.path.join(directory, filename)\n",
    "        \n",
    "        # Lee el archivo .xlsx\n",
    "        df = pd.read_excel(file_path)\n",
    "        \n",
    "        # Construye la ruta del archivo .csv de salida\n",
    "        csv_filename = filename.rsplit('.', 1)[0] + '.csv'\n",
    "        csv_path = os.path.join(directory, csv_filename)\n",
    "        \n",
    "        # Guarda el dataframe como un archivo .csv\n",
    "        df.to_csv(csv_path, index=False)\n",
    "\n",
    "        print(f'Archivo convertido: {file_path} -> {csv_path}')\n",
    "        \n",
    "        # Elimina el archivo original .xlsx o .xls\n",
    "        os.remove(file_path)\n",
    "        print(f'Archivo original eliminado: {file_path}')\n",
    "\n",
    "print('fin')"
   ]
  }
 ],
 "metadata": {
  "kernelspec": {
   "display_name": "henry_venv",
   "language": "python",
   "name": "python3"
  },
  "language_info": {
   "codemirror_mode": {
    "name": "ipython",
    "version": 3
   },
   "file_extension": ".py",
   "mimetype": "text/x-python",
   "name": "python",
   "nbconvert_exporter": "python",
   "pygments_lexer": "ipython3",
   "version": "3.12.0"
  }
 },
 "nbformat": 4,
 "nbformat_minor": 2
}
