{
 "cells": [
  {
   "cell_type": "markdown",
   "metadata": {},
   "source": [
    "# Práctica Clase 7"
   ]
  },
  {
   "cell_type": "markdown",
   "metadata": {},
   "source": [
    "1) Diseñar una clase que permita trabajar con un árbol binario y que contenga los métodos:<br>\n",
    "    * insertaVal: para insertar un dato<br>\n",
    "    * buscaVal: que devuelva True o False si existe o no un dato<br>\n",
    "    * verVal: que imprima por pantalla los valores del árbol<br>\n",
    "\n",
    "Nota: Se puede utilizar la recursividad\n"
   ]
  },
  {
   "cell_type": "code",
   "execution_count": 17,
   "metadata": {},
   "outputs": [],
   "source": [
    "import sys\n",
    "sys.path.append('HenryClasesPTdata_10/Clase06')\n",
    "\n"
   ]
  },
  {
   "cell_type": "code",
   "execution_count": 63,
   "metadata": {},
   "outputs": [],
   "source": [
    "class node:\n",
    "    #Constructor\n",
    "    def __init__(self, data): \n",
    "        self.data = data \n",
    "        self.next = None\n",
    "        self.previous = None\n",
    "    def isEmpty(self):\n",
    "        \"\"\"Check if the list is empty\"\"\"\n",
    "        return self.head is None    \n",
    "    #Metodo get\n",
    "    def getData(self): \n",
    "        return self.data\n",
    "    #Next item\n",
    "    def getNext(self): \n",
    "        return self.next\n",
    "    #Metodo set\n",
    "    def setData(self,new): \n",
    "        self.data = new\n",
    "    # Nuevo nodo\n",
    "    def setNext(self, new_node): \n",
    "        self.next = node (new_node)\n",
    "    # Inserta un nuevo dato despues de {Un dato dado}\n",
    "    def insertnodeAfter(self, new_node):\n",
    "        new_node.next = self.next\n",
    "        new_node.previous = self\n",
    "        self.next = new_node\n",
    "        if new_node.next:\n",
    "            new_node.next.previous = new_node\n",
    "    def insertData(self, dato):\n",
    "        if self.dato:\n",
    "            if dato < self.dato:\n",
    "                if self.izq == None:\n",
    "                    self.izq = node(dato)\n",
    "                else:\n",
    "                    self.izq.insertData(dato)\n",
    "            elif dato > self.dato:\n",
    "                if self.der == None:\n",
    "                    self.der = node(dato)\n",
    "                else:\n",
    "                    self.der.insertData(dato)\n",
    "        else:\n",
    "            self.dato = dato\n",
    "    # Busca un dato\n",
    "    def search(self, value):\n",
    "        current_node = self\n",
    "        while current_node:\n",
    "            if current_node.data == value:\n",
    "                return current_node\n",
    "            current_node = current_node.next\n",
    "        return None  # Value not found\n",
    "    def remove(self):\n",
    "        if self.next:  # Check if not the tail node\n",
    "            self.new = self.next.data  # Copy data from next node\n",
    "            self.next = self.next.next  # Skip over the next node\n",
    "        else:  # If tail node\n",
    "            raise Exception(\"Cannot remove the tail node in a singly linked list.\")"
   ]
  },
  {
   "cell_type": "code",
   "execution_count": 72,
   "metadata": {},
   "outputs": [],
   "source": [
    "root = node(10)\n",
    "nodo2 = node(\"red\")"
   ]
  },
  {
   "cell_type": "code",
   "execution_count": 77,
   "metadata": {},
   "outputs": [],
   "source": [
    "root.setNext(3)\n",
    "root.setNext(13)\n",
    "root.setNext(1)\n",
    "root.setNext(8)\n",
    "root.setNext(20)\n",
    "root.insertAfter(nodo2)"
   ]
  },
  {
   "cell_type": "code",
   "execution_count": 75,
   "metadata": {},
   "outputs": [
    {
     "name": "stdout",
     "output_type": "stream",
     "text": [
      "8 No Encontrado!\n"
     ]
    }
   ],
   "source": [
    "valorBuscado = 8\n",
    "if (root.search(valorBuscado)):\n",
    "    print(valorBuscado, 'Encontrado!')\n",
    "else:\n",
    "    print(valorBuscado, 'No Encontrado!')"
   ]
  },
  {
   "cell_type": "code",
   "execution_count": 81,
   "metadata": {},
   "outputs": [
    {
     "data": {
      "text/plain": [
       "<__main__.node at 0x105fe9be0>"
      ]
     },
     "execution_count": 81,
     "metadata": {},
     "output_type": "execute_result"
    }
   ],
   "source": [
    "root.getNext()"
   ]
  },
  {
   "cell_type": "code",
   "execution_count": 6,
   "metadata": {},
   "outputs": [],
   "source": [
    "root.insertaVal(9)"
   ]
  },
  {
   "cell_type": "code",
   "execution_count": 7,
   "metadata": {},
   "outputs": [
    {
     "name": "stdout",
     "output_type": "stream",
     "text": [
      "1\n",
      "3\n",
      "8\n",
      "9\n",
      "10\n",
      "13\n",
      "20\n"
     ]
    }
   ],
   "source": [
    "root.verVal()"
   ]
  },
  {
   "cell_type": "code",
   "execution_count": null,
   "metadata": {},
   "outputs": [],
   "source": [
    "class nodeDoublyLinked:\n",
    "    '''\n",
    "    Descripcion: Clase nodo doble enlazada \n",
    "    que permite buscar antes y despues los datos.\n",
    "    '''\n",
    "    \n",
    "    def __init__(self, dato):\n",
    "        self.cargo = dato\n",
    "        self.next = None\n",
    "        self.previous = None\n",
    "    #Metodo get\n",
    "    def getData(self): \n",
    "        return self.data\n",
    "    #Next item\n",
    "    def getNext(self): \n",
    "        return self.next\n",
    "    #Metodo set\n",
    "    def setData(self,new): \n",
    "        self.data = new\n",
    "    # Nuevo nodo\n",
    "    def setNext(self, new_node): \n",
    "        self.next = nodeDoublyLinked (new_node)\n",
    "    # Inserta un nuevo dato despues de {Un dato dado}\n",
    "  \n",
    "    # Busca un dato\n",
    "    def search(self, value):\n",
    "        current_node = self\n",
    "        while current_node:\n",
    "            if current_node.data == value:\n",
    "                return current_node\n",
    "            current_node = current_node.next\n",
    "        return None  # Value not found\n",
    "    #Dato anterior \n",
    "    def hasPrevious(self):\n",
    "        return self.previous is not None\n",
    "    #Optine el dato anterior\n",
    "    def getPrevious(self):\n",
    "        return self.previous\n",
    "    #Configura la direcion previa de un dato\n",
    "    def setPrevious(self, new_node):\n",
    "        self.previous = new_node\n",
    "    #Inserta un nuevo dato despues de otro\n",
    "    def insert_after(self, new_node):\n",
    "        new_node.next = self.next\n",
    "        new_node.previous = self\n",
    "        self.next = new_node\n",
    "        if new_node.next:\n",
    "            new_node.next.previous = new_node\n",
    "    #Inser a prevouos value\n",
    "    def remove(self):\n",
    "        if self.next:  # Not the tail node\n",
    "            self.next.previous = self.previous  # Update previous pointer of the next node\n",
    "            self.previous.next = self.next  # Update next pointer of the previous node\n",
    "        else:  # Tail node\n",
    "            self.previous.next = None  # Set previous node's next to None\n",
    "            \n",
    "        '''\n",
    "        Desafíos al eliminar el nodo final:\n",
    "\n",
    "Localización del predecesor:\n",
    "\n",
    "Para eliminar el nodo final, \n",
    "primero necesitarías encontrar su predecesor.\n",
    "En una lista enlazada simple, \n",
    "esto implica iterar a través de la lista desde la\n",
    "cabeza hasta que encuentres el segundo nodo desde el final. \n",
    "Esto puede ser consumidor de tiempo, especialmente para listas grandes.\n",
    "Actualización del puntero:\n",
    "\n",
    "Una vez que encuentres el predecesor, \n",
    "necesitarías establecer su puntero siguiente \n",
    "como None para desvincular el nodo final.\n",
    "Sin embargo, las listas enlazadas simples \n",
    "carecen de punteros directos al final desde \n",
    "cualquier otro nodo, lo que hace imposible \n",
    "actualizar el puntero del predecesor sin primero \n",
    "recorrer la lista.\n",
    "        '''"
   ]
  }
 ],
 "metadata": {
  "kernelspec": {
   "display_name": "Python 3.11.3 64-bit",
   "language": "python",
   "name": "python3"
  },
  "language_info": {
   "codemirror_mode": {
    "name": "ipython",
    "version": 3
   },
   "file_extension": ".py",
   "mimetype": "text/x-python",
   "name": "python",
   "nbconvert_exporter": "python",
   "pygments_lexer": "ipython3",
   "version": "3.12.1"
  },
  "vscode": {
   "interpreter": {
    "hash": "52634da84371cba311ea128a5ea7cdc41ff074b781779e754b270ff9f8153cee"
   }
  }
 },
 "nbformat": 4,
 "nbformat_minor": 4
}
