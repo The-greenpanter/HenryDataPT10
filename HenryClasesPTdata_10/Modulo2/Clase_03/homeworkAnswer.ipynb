{
 "cells": [
  {
   "cell_type": "code",
   "execution_count": 1,
   "metadata": {},
   "outputs": [],
   "source": [
    "import pandas as pd\n",
    "import numpy as np\n",
    "import matplotlib.pyplot as plt\n"
   ]
  },
  {
   "cell_type": "markdown",
   "metadata": {},
   "source": [
    "1. Suponga dos eventos, A y B, y que P(A) = 0.50, P(B) = 0.60 y P(A ∩ B) = 0.40.<br>\n",
    "- a. Halle P(A | B).\n",
    "- b. Halle P(B | A).\n",
    "- c. ¿A y B son independientes? ¿Por qué sí o por qué no?"
   ]
  },
  {
   "cell_type": "markdown",
   "metadata": {},
   "source": [
    "1. **Probabilidad condicional (P(A | B))**: Es la probabilidad de que ocurra el evento A dado que ya sabemos que ha ocurrido el evento B. Se calcula utilizando la fórmula:\n",
    "\n",
    "Para el primer caso seria:\n",
    "\n",
    "<div style=\"text-align:center\">\n",
    "\n",
    "\n",
    "$\\\n",
    "      P(A|B)=\\frac{P(A\\cap B)}{P(B)}\\\n",
    "$\n",
    "</div>\n",
    "\n",
    "Para el segundo caso seria:\n",
    "\n",
    "<div style=\"text-align:center\">\n",
    "\n",
    "$\\\n",
    "      P(B|A)=\\frac{P(B\\cap A)}{P(B)}\\\n",
    "$\n",
    "</div>\n",
    "\n",
    "Basados en que:\n",
    "\n",
    " - P(A) = 0.50, \n",
    " - P(B) = 0.60 \n",
    " - P(A ∩ B) = 0.40.\n",
    "<div style=\"text-align:center\">\n",
    "\n",
    "$\\\n",
    "      P(A|B)=\\frac{P(0.40)}{P(0.60)}\\\n",
    "$\n",
    "</div>\n",
    "\n",
    "Y ahora calculamos P(B|B)\n",
    "\n",
    "<div style=\"text-align:center\">\n",
    "\n",
    "$\\\n",
    "      P(B|A)=\\frac{P(0.40)}{P(0.5)}\\\n",
    "$\n",
    "</div>\n"
   ]
  },
  {
   "cell_type": "code",
   "execution_count": 4,
   "metadata": {},
   "outputs": [
    {
     "name": "stdout",
     "output_type": "stream",
     "text": [
      "La posiblidad que pase un evento A dado B es:  0.8\n",
      "La posiblidad que pase un evento B dado A es:  0.6666666666666667\n"
     ]
    }
   ],
   "source": [
    "a:float = 0.5\n",
    "b:float = 0.6\n",
    "anb:float = 0.4\n",
    "\n",
    "def probabilidad_condicional ( x:float, anb:float) -> float:\n",
    "    resultado: float = anb/x\n",
    "    return resultado\n",
    "\n",
    "print(\"La posiblidad que pase un evento A dado B es: \", probabilidad_condicional(a,anb))\n",
    "print(\"La posiblidad que pase un evento B dado A es: \", probabilidad_condicional(b,anb))"
   ]
  },
  {
   "cell_type": "markdown",
   "metadata": {},
   "source": [
    "\n",
    "2. **Probabilidad conjunta (P(A ∩ B))**: Es la probabilidad de que ocurran ambos eventos A y B al mismo tiempo.\n",
    "3. **Independencia de eventos**: Dos eventos A y B son independientes si la ocurrencia de uno no afecta la probabilidad de ocurrencia del otro. Formalmente, dos eventos son independientes si:\n",
    "<div style=\"text-align:center\">\n",
    "\n",
    "$\\\n",
    "      P(A\\cap B)=P(A)\\cdot P(B) \\\n",
    "      $\n",
    "</div>\n",
    "\n",
    "Para determinar si A y B son independientes, verifica si se cumple la igualdad $ (P(A \\cap B) = P(A) \\cdot P(B)) $ . Si se cumple, los eventos son independientes; de lo contrario, no lo son.\n"
   ]
  },
  {
   "cell_type": "code",
   "execution_count": 9,
   "metadata": {},
   "outputs": [
    {
     "data": {
      "text/plain": [
       "'Son independientes'"
      ]
     },
     "execution_count": 9,
     "metadata": {},
     "output_type": "execute_result"
    }
   ],
   "source": [
    "def eventos_independientes (x:float,y:float,anb:float) -> str:\n",
    "    if ((x*y)==anb):\n",
    "        return \"No son independientes\"\n",
    "    else:\n",
    "        return \"Son independientes\"\n",
    "\n",
    "eventos_independientes(a,b,anb)"
   ]
  },
  {
   "cell_type": "markdown",
   "metadata": {},
   "source": [
    "2. Suponga dos eventos, A y B, que son mutuamente excluyentes. Admita, además, que P(A) = 0.30 y P(B) = 0.40.<br>\n",
    "- a. Obtenga P(A ∩ B). ¿Existe intersección entre los dos conjuntos?.\n",
    "- b. Calcule P(A | B).\n",
    "- c. Un estudiante de estadística argumenta que los conceptos de eventos mutuamente excluyentes y eventos independientes son en realidad lo mismo y que si los eventos son mutuamente excluyentes deben ser también independientes. ¿Está usted de acuerdo? Use la información sobre las probabilidades para justificar su respuesta.\n"
   ]
  },
  {
   "cell_type": "markdown",
   "metadata": {},
   "source": [
    "Si dos eventos son mutuamente excluyentes $P(A\\cap B)=0$ "
   ]
  },
  {
   "cell_type": "code",
   "execution_count": 10,
   "metadata": {},
   "outputs": [
    {
     "name": "stdout",
     "output_type": "stream",
     "text": [
      "La posiblidad que pase un evento A dado B es:  0.0\n"
     ]
    }
   ],
   "source": [
    "A:float = 0.3\n",
    "B:float = .4\n",
    "AnB:float = 0\n",
    "print(\"La posiblidad que pase un evento A dado B es: \", probabilidad_condicional(A,AnB))\n"
   ]
  },
  {
   "cell_type": "markdown",
   "metadata": {},
   "source": [
    "Los eventos que son independientes pero no mutuamente excluyentes graficamente se ven asi:\n",
    "<div style=\"text-align:center\">\n",
    "<img src=\"imagecopy.png\" alt=\"Texto alternativo\" style=\"width:200px;\">\n",
    "</div>\n",
    "Mientras que dos eventos mutuamente excluyentes se ven aso:\n",
    "\n",
    "<div style=\"text-align:center;margin-top:10px;margin-bottom: 5px\">\n",
    "<img src=\"image.png\" alt=\"Texto alternativo\" style=\"width:200px;\">\n",
    "</div>\n",
    "Como podemos observar los mutuamente excluyentes no comparten un elementos en el universo, mientras que los independientes si."
   ]
  }
 ],
 "metadata": {
  "kernelspec": {
   "display_name": "Henry_env",
   "language": "python",
   "name": "python3"
  },
  "language_info": {
   "codemirror_mode": {
    "name": "ipython",
    "version": 3
   },
   "file_extension": ".py",
   "mimetype": "text/x-python",
   "name": "python",
   "nbconvert_exporter": "python",
   "pygments_lexer": "ipython3",
   "version": "3.12.1"
  }
 },
 "nbformat": 4,
 "nbformat_minor": 2
}
